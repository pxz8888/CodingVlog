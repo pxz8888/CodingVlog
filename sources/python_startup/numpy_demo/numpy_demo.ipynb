{
 "cells": [
  {
   "cell_type": "markdown",
   "metadata": {},
   "source": [
    "# Numpy 使用基础  \n",
    "只要我们接触 Python 数据分析，肯定会离不开 Numpy 和 Pandas。Numpy 和 Pandas 的主要区别在于 Numpy 是一个数据计算库，以 ndarray 为核心，主要针对矩阵、计算方面。而 pandas 则着重与表格，更广泛在数据分析、量化以及金融的应用。  Numpy 和 Pandas 其实有很多功能也是非常类似的，实际选择看具体的需求，一般偏计算使用 Numpy，有比较复杂的表格合并查询等，可以使用 Pandas。  \n",
    "\n",
    "本 NoteBook 主要以掌握 Numpy 的基础使用为目标，按一下五个部分内容介绍 Numpy 的基本用法：  \n",
    "- ndarray的特性以及基础切片索引\n",
    "- 常用计算函数运用\n",
    "- 常用统计函数运用\n",
    "- 简单集合运算运用\n",
    "- 随机函数运用  \n",
    "\n",
    "参考书推荐：[《利用 Python 进行数据分析》](https://book.douban.com/subject/30283996/)"
   ]
  },
  {
   "cell_type": "markdown",
   "metadata": {},
   "source": [
    "**ndarray**  \n",
    "创建：可以使用以下*函数*创建 ndarray  \n",
    "\n",
    "函数 | 解释 \n",
    "--- | ---  \n",
    "array | 输入 list，tuple 转 ndarray\n",
    "asarray | 输入转 ndarray (不复制副本)\n",
    "arange | 类似 range\n",
    "ones、ones_like | 全 1 矩阵\n",
    "zeros、zeros_like | 全 0 矩阵\n",
    "empty、empty_like | 新 ndarray，只分配内存\n",
    "eye | 对角方阵"
   ]
  },
  {
   "cell_type": "code",
   "execution_count": 1,
   "metadata": {},
   "outputs": [],
   "source": [
    "import numpy as np"
   ]
  },
  {
   "cell_type": "code",
   "execution_count": 2,
   "metadata": {},
   "outputs": [
    {
     "data": {
      "text/plain": [
       "array([1, 2, 3])"
      ]
     },
     "execution_count": 2,
     "metadata": {},
     "output_type": "execute_result"
    }
   ],
   "source": [
    "# np.array → list\n",
    "np.array([1, 2, 3])"
   ]
  },
  {
   "cell_type": "code",
   "execution_count": 3,
   "metadata": {},
   "outputs": [
    {
     "data": {
      "text/plain": [
       "array([4, 5, 6])"
      ]
     },
     "execution_count": 3,
     "metadata": {},
     "output_type": "execute_result"
    }
   ],
   "source": [
    "# np.array → tuple\n",
    "np.array((4, 5, 6))"
   ]
  },
  {
   "cell_type": "code",
   "execution_count": 4,
   "metadata": {},
   "outputs": [
    {
     "name": "stdout",
     "output_type": "stream",
     "text": [
      "arr1:\n",
      " [[1 2 3]\n",
      " [0 0 0]]\n",
      "arr2:\n",
      " [[1 2 3]\n",
      " [4 5 6]]\n",
      "arr3:\n",
      " [[1 2 3]\n",
      " [0 0 0]]\n"
     ]
    }
   ],
   "source": [
    "# np.array np.asarray 区别\n",
    "arr1 = np.array([[1, 2, 3], [4, 5, 6]])\n",
    "arr2 = np.array(arr1)\n",
    "arr3 = np.asanyarray(arr1)\n",
    "arr1[1] = 0\n",
    "print('arr1:\\n', arr1)\n",
    "print('arr2:\\n', arr2)\n",
    "print('arr3:\\n', arr3)"
   ]
  },
  {
   "cell_type": "code",
   "execution_count": 5,
   "metadata": {},
   "outputs": [
    {
     "name": "stdout",
     "output_type": "stream",
     "text": [
      "list:\n",
      " [1, 2, 3, 4, 5, 6, 7, 8, 9] <class 'list'>\n",
      "arr:\n",
      " [1 2 3 4 5 6 7 8 9] <class 'numpy.ndarray'>\n"
     ]
    }
   ],
   "source": [
    "# np.arange\n",
    "list_range = [x for x in range(1, 10)]\n",
    "arr_arrange = np.arange(1, 10)\n",
    "print('list:\\n', list_range, type(list_range))\n",
    "print('arr:\\n', arr_arrange, type(arr_arrange))"
   ]
  },
  {
   "cell_type": "code",
   "execution_count": 6,
   "metadata": {},
   "outputs": [
    {
     "name": "stdout",
     "output_type": "stream",
     "text": [
      "arr_ones:\n",
      " [[ 1.  1.]\n",
      " [ 1.  1.]]\n"
     ]
    }
   ],
   "source": [
    "# np.ones\n",
    "arr_ones = np.ones((2, 2))\n",
    "print('arr_ones:\\n', arr_ones)"
   ]
  },
  {
   "cell_type": "code",
   "execution_count": 7,
   "metadata": {},
   "outputs": [
    {
     "name": "stdout",
     "output_type": "stream",
     "text": [
      "arr1: \n",
      " [[1 2 3]\n",
      " [0 0 0]]\n",
      "arr_ones_likes:\n",
      " [[1 1 1]\n",
      " [1 1 1]]\n"
     ]
    }
   ],
   "source": [
    "# np.ones_like\n",
    "arr_ones_likes = np.ones_like(arr1)\n",
    "print('arr1: \\n', arr1)\n",
    "print('arr_ones_likes:\\n', arr_ones_likes)"
   ]
  },
  {
   "cell_type": "code",
   "execution_count": 8,
   "metadata": {},
   "outputs": [
    {
     "name": "stdout",
     "output_type": "stream",
     "text": [
      "arr_zeros:\n",
      " [[ 0.  0.  0.]\n",
      " [ 0.  0.  0.]\n",
      " [ 0.  0.  0.]]\n",
      "arr_zeros_like:\n",
      " [[0 0 0]\n",
      " [0 0 0]]\n"
     ]
    }
   ],
   "source": [
    "# np.zeros & np.zeros_like\n",
    "arr_zeros = np.zeros((3, 3))\n",
    "arr_zeros_like = np.zeros_like(arr1)\n",
    "print('arr_zeros:\\n', arr_zeros)\n",
    "print('arr_zeros_like:\\n', arr_zeros_like)"
   ]
  },
  {
   "cell_type": "code",
   "execution_count": 9,
   "metadata": {},
   "outputs": [
    {
     "name": "stdout",
     "output_type": "stream",
     "text": [
      "arr_empty:\n",
      " [[ 0.  0.]\n",
      " [ 0.  0.]]\n",
      "arr_empty_like:\n",
      " [[0 0 0]\n",
      " [0 0 0]]\n"
     ]
    }
   ],
   "source": [
    "# np.empty & np.empty_like\n",
    "arr_empty = np.empty((2, 2))\n",
    "arr_empty_like = np.empty_like(arr1)\n",
    "print('arr_empty:\\n', arr_empty)\n",
    "print('arr_empty_like:\\n', arr_empty_like)"
   ]
  },
  {
   "cell_type": "code",
   "execution_count": 10,
   "metadata": {},
   "outputs": [
    {
     "name": "stdout",
     "output_type": "stream",
     "text": [
      "arr_eye 3:\n",
      " [[ 1.  0.  0.]\n",
      " [ 0.  1.  0.]\n",
      " [ 0.  0.  1.]]\n",
      "arr_eye 5:\n",
      " [[ 1.  0.  0.  0.  0.]\n",
      " [ 0.  1.  0.  0.  0.]\n",
      " [ 0.  0.  1.  0.  0.]\n",
      " [ 0.  0.  0.  1.  0.]\n",
      " [ 0.  0.  0.  0.  1.]]\n"
     ]
    }
   ],
   "source": [
    "# np.eye \n",
    "arr_eye_3 = np.eye(3)\n",
    "arr_eye_5 = np.eye(5)\n",
    "print('arr_eye 3:\\n', arr_eye_3)\n",
    "print('arr_eye 5:\\n', arr_eye_5)"
   ]
  },
  {
   "cell_type": "markdown",
   "metadata": {},
   "source": [
    "索引&切片 （查找）"
   ]
  },
  {
   "cell_type": "code",
   "execution_count": 11,
   "metadata": {},
   "outputs": [
    {
     "name": "stdout",
     "output_type": "stream",
     "text": [
      "arr:\n",
      " [0 1 2 3 4 5 6 7 8 9]\n",
      "数组第4个元素:  3\n",
      "数组第6到第8个元素:  [5 6 7]\n",
      "单独修改第三位元素为 0 :\n",
      " [0 1 2 0 4 5 6 7 8 9]\n",
      "批量修改6至8位置元素为 11 :\n",
      " [ 0  1  2  0  4 11 11 11  8  9]\n"
     ]
    }
   ],
   "source": [
    "# 一维数组 索引&切片\n",
    "arr = np.arange(10)\n",
    "print('arr:\\n', arr)\n",
    "print('数组第4个元素: ', arr[3])\n",
    "print('数组第6到第8个元素: ', arr[5:8])\n",
    "arr[3] = 0\n",
    "print('单独修改第三位元素为 0 :\\n', arr)\n",
    "arr[5:8] = 11\n",
    "print('批量修改6至8位置元素为 11 :\\n', arr)"
   ]
  },
  {
   "cell_type": "markdown",
   "metadata": {},
   "source": [
    "**特别注意** TIPS  \n",
    "将切片赋值给一个新变量，Numpy 并不会自动复制，如果修改，会直接修改源数据！！！"
   ]
  },
  {
   "cell_type": "code",
   "execution_count": 12,
   "metadata": {},
   "outputs": [
    {
     "name": "stdout",
     "output_type": "stream",
     "text": [
      "arr: \n",
      " [0 1 2 3 4 5 6 7 8 9]\n",
      "arr_slice: \n",
      " [5 6 7 8 9]\n",
      "arr_slice(after slice): \n",
      " [   5    6    7    8 1024]\n",
      "arr(after slice): \n",
      " [   0    1    2    3    4    5    6    7    8 1024]\n"
     ]
    }
   ],
   "source": [
    "origin_arr = np.arange(10)\n",
    "print('arr: \\n', origin_arr)\n",
    "arr_slice = origin_arr[5:]\n",
    "print('arr_slice: \\n', arr_slice)\n",
    "arr_slice[-1] = 1024\n",
    "print('arr_slice(after slice): \\n', arr_slice)\n",
    "print('arr(after slice): \\n', origin_arr)"
   ]
  },
  {
   "cell_type": "code",
   "execution_count": 13,
   "metadata": {},
   "outputs": [
    {
     "name": "stdout",
     "output_type": "stream",
     "text": [
      "arr: \n",
      " [0 1 2 3 4 5 6 7 8 9]\n",
      "arr_slice: \n",
      " [5 6 7 8 9]\n",
      "arr_slice(after slice): \n",
      " [   5    6    7    8 1024]\n",
      "arr(after slice): \n",
      " [0 1 2 3 4 5 6 7 8 9]\n"
     ]
    }
   ],
   "source": [
    "# 使用 .copy() 可复制新数据，修改不影响原来的数据  \n",
    "origin_arr = np.arange(10)\n",
    "print('arr: \\n', origin_arr)\n",
    "arr_slice = origin_arr[5:].copy()\n",
    "print('arr_slice: \\n', arr_slice)\n",
    "arr_slice[-1] = 1024\n",
    "print('arr_slice(after slice): \\n', arr_slice)\n",
    "print('arr(after slice): \\n', origin_arr)"
   ]
  },
  {
   "cell_type": "markdown",
   "metadata": {},
   "source": [
    "**思考！？**  \n",
    "为什么要这样设计？默认不会复制新的 ndarray？"
   ]
  },
  {
   "cell_type": "code",
   "execution_count": 14,
   "metadata": {},
   "outputs": [
    {
     "name": "stdout",
     "output_type": "stream",
     "text": [
      "arr_2d: \n",
      " [[1 2 3]\n",
      " [4 5 6]\n",
      " [7 8 9]]\n",
      "选取第三行第三列:  9\n",
      "选取中间一行: \n",
      " [4 5 6]\n",
      "选取最后一列: \n",
      " [3 6 9]\n"
     ]
    }
   ],
   "source": [
    "# 二维数组索引&切片\n",
    "arr_2d = np.array([[1, 2, 3], [4, 5, 6], [7, 8, 9]])\n",
    "print('arr_2d: \\n', arr_2d)\n",
    "print('选取第三行第三列: ', arr_2d[2, 2])\n",
    "print('选取中间一行: \\n', arr_2d[1])\n",
    "print('选取最后一列: \\n', arr_2d[:, 2])"
   ]
  },
  {
   "cell_type": "markdown",
   "metadata": {},
   "source": [
    "**思考！？**  \n",
    "更高纬度(eg. 3d 4d 5d...)如何索引和切片？"
   ]
  },
  {
   "cell_type": "code",
   "execution_count": 15,
   "metadata": {},
   "outputs": [
    {
     "name": "stdout",
     "output_type": "stream",
     "text": [
      "arr_3d: \n",
      " [[[ 1  2  3]\n",
      "  [ 4  5  6]]\n",
      "\n",
      " [[ 7  8  9]\n",
      "  [10 11 12]]]\n",
      "axis 0: \n",
      " [[1 2 3]\n",
      " [4 5 6]]\n",
      "axis0 = 1, axis1 = 0, axis2 = 2:  9\n"
     ]
    }
   ],
   "source": [
    "# 三维数组 感受一下上面思考的问题\n",
    "arr_3d = np.array([[[1, 2, 3], [4, 5, 6]], [[7, 8, 9], [10, 11, 12]]])\n",
    "print('arr_3d: \\n', arr_3d)\n",
    "print('axis 0: \\n', arr_3d[0])\n",
    "print('axis0 = 1, axis1 = 0, axis2 = 2: ',arr_3d[1][0][2])"
   ]
  },
  {
   "cell_type": "markdown",
   "metadata": {},
   "source": [
    "**高级索引**"
   ]
  },
  {
   "cell_type": "code",
   "execution_count": 16,
   "metadata": {},
   "outputs": [
    {
     "name": "stdout",
     "output_type": "stream",
     "text": [
      "weekdays: \n",
      " ['Mon' 'Tue' 'Wed' 'Thurs' 'Fri' 'Sat' 'Sun']\n",
      "data: \n",
      " [[ 0.007933    1.03149299  0.13299665 -0.43991748]\n",
      " [-0.76542112 -0.81960019  0.60773258 -1.31736239]\n",
      " [ 0.94192462  0.40903701 -0.11436537 -0.71822014]\n",
      " [ 0.95016136  1.16260355 -1.20433439  0.1934954 ]\n",
      " [ 1.05855942  0.177071    0.81754917 -0.55449698]\n",
      " [ 0.69813971  0.72033553 -0.38544549 -1.83294227]\n",
      " [ 0.14395036  0.00438647  0.08261076 -0.68731269]]\n"
     ]
    }
   ],
   "source": [
    "weekdays = np.array(['Mon', 'Tue', 'Wed', 'Thurs', 'Fri', 'Sat', 'Sun'])\n",
    "data = np.random.randn(7, 4)\n",
    "print('weekdays: \\n', weekdays)\n",
    "print('data: \\n', data)"
   ]
  },
  {
   "cell_type": "code",
   "execution_count": 17,
   "metadata": {},
   "outputs": [
    {
     "name": "stdout",
     "output_type": "stream",
     "text": [
      "weekdays Bool Array: \n",
      " [False False  True False False False False]\n",
      "weekdays cond-& Array : \n",
      " [False False  True False False  True False]\n",
      "Fir - data: \n",
      " [[ 1.05855942  0.177071    0.81754917 -0.55449698]]\n",
      "Wed & Sat - data : \n",
      " [[ 0.94192462  0.40903701 -0.11436537 -0.71822014]\n",
      " [ 0.69813971  0.72033553 -0.38544549 -1.83294227]]\n"
     ]
    }
   ],
   "source": [
    "# data 是一组随机正态分布的数据， weekdays 是一组星期一到星期天的数据标签，假定每一天对应有 4 个数据\n",
    "# 下面以上面模拟数据进行 高级索引&切片 演示\n",
    "\n",
    "# Bool数组\n",
    "print('weekdays Bool Array: \\n', weekdays == 'Wed')\n",
    "# 组合 Bool 条件 (Wed & Sat)\n",
    "wed_and_sat_bool_arr = (weekdays == 'Wed') | (weekdays == 'Sat')\n",
    "print('weekdays cond-& Array : \\n', wed_and_sat_bool_arr)\n",
    "# 选取 Fri 对应的数据\n",
    "print('Fir - data: \\n', data[weekdays=='Fri'])\n",
    "# 组合 Bool 条件 对应数据\n",
    "print('Wed & Sat - data : \\n', data[wed_and_sat_bool_arr])"
   ]
  },
  {
   "cell_type": "code",
   "execution_count": 18,
   "metadata": {},
   "outputs": [
    {
     "name": "stdout",
     "output_type": "stream",
     "text": [
      "data < 0: \n",
      " [-0.43991748 -0.76542112 -0.81960019 -1.31736239 -0.11436537 -0.71822014\n",
      " -1.20433439 -0.55449698 -0.38544549 -1.83294227 -0.68731269]\n",
      "data < 0 (=0): \n",
      " [[ 0.007933    1.03149299  0.13299665  0.        ]\n",
      " [ 0.          0.          0.60773258  0.        ]\n",
      " [ 0.94192462  0.40903701  0.          0.        ]\n",
      " [ 0.95016136  1.16260355  0.          0.1934954 ]\n",
      " [ 1.05855942  0.177071    0.81754917  0.        ]\n",
      " [ 0.69813971  0.72033553  0.          0.        ]\n",
      " [ 0.14395036  0.00438647  0.08261076  0.        ]]\n",
      "Wed & Sat - data (=10) : \n",
      " [[  7.93299692e-03   1.03149299e+00   1.32996653e-01  -4.39917484e-01]\n",
      " [ -7.65421116e-01  -8.19600186e-01   6.07732584e-01  -1.31736239e+00]\n",
      " [  1.00000000e+01   1.00000000e+01   1.00000000e+01   1.00000000e+01]\n",
      " [  9.50161361e-01   1.16260355e+00  -1.20433439e+00   1.93495395e-01]\n",
      " [  1.05855942e+00   1.77071000e-01   8.17549172e-01  -5.54496978e-01]\n",
      " [  1.00000000e+01   1.00000000e+01   1.00000000e+01   1.00000000e+01]\n",
      " [  1.43950357e-01   4.38646677e-03   8.26107621e-02  -6.87312686e-01]]\n"
     ]
    }
   ],
   "source": [
    "# 数值型逻辑\n",
    "print('data < 0: \\n', data[data < 0])\n",
    "# 数值型逻辑 赋值 (eg. 数据清洗)\n",
    "data_clean = data.copy()\n",
    "data_clean[data_clean < 0] = 0\n",
    "print('data < 0 (=0): \\n', data_clean)\n",
    "# 结合 weekdays 组合逻辑索引\n",
    "data[(weekdays == 'Wed') | (weekdays == 'Sat')] = 10\n",
    "print('Wed & Sat - data (=10) : \\n', data)"
   ]
  },
  {
   "cell_type": "markdown",
   "metadata": {},
   "source": [
    "**常用数学计算函数**  \n",
    "以下函数对一个数组作用(unary ufunc)  \n",
    "\n",
    "函数 | 说明 \n",
    "--- | --- \n",
    "abs fasb | 绝对值 fabs更快一点\n",
    "sqrt | 平方根\n",
    "square | 平方\n",
    "exp | 指数 $e^x$\n",
    "log log10 log2 log1p | 对数 分别对应底 (e、10、2、 1+x)\n",
    "sign | 计算正负号\n",
    "ceil | 大于等于该值得最小整数\n",
    "floor | 小于等于该值得最大整数\n",
    "rint | 四舍五入整数\n",
    "modf | 小数、整数分为两个部分返回\n",
    "isnan | 判断是否空(NaN) 返回 Bool 数组\n",
    "isfinite isInf | 判断无穷元素\n",
    "cos cosh sin sinh tan tanh | 三角函数\n",
    "arccos arccosh arcsin arcsinh arctan arctanh | 反三角函数\n",
    "logical_not | 计算真值\n",
    "\n"
   ]
  },
  {
   "cell_type": "code",
   "execution_count": 19,
   "metadata": {},
   "outputs": [
    {
     "name": "stdout",
     "output_type": "stream",
     "text": [
      "arr: \n",
      " [-10  -9  -8  -7  -6  -5  -4  -3  -2  -1]\n"
     ]
    }
   ],
   "source": [
    "arr = np.arange(10) - 10\n",
    "print('arr: \\n', arr)"
   ]
  },
  {
   "cell_type": "code",
   "execution_count": 20,
   "metadata": {},
   "outputs": [
    {
     "name": "stdout",
     "output_type": "stream",
     "text": [
      "arr abs: \n",
      " [10  9  8  7  6  5  4  3  2  1]\n",
      "arr sqrt: \n",
      " [ 0.          1.          1.41421356  1.73205081  2.          2.23606798\n",
      "  2.44948974  2.64575131  2.82842712  3.        ]\n",
      "arr square: \n",
      " [100  81  64  49  36  25  16   9   4   1]\n",
      "arr exp: \n",
      " [  1.00000000e+00   2.71828183e+00   7.38905610e+00   2.00855369e+01\n",
      "   5.45981500e+01   1.48413159e+02   4.03428793e+02   1.09663316e+03\n",
      "   2.98095799e+03   8.10308393e+03]\n",
      "arr log: \n",
      " [ 0.  1.  2.  3.  4.  5.  6.  7.  8.  9.]\n",
      "arr sign: \n",
      " [-1 -1 -1 -1 -1  0  1  1  1  1]\n",
      "arr ceil: \n",
      " [-9. -8. -7. -6. -5. -4. -3. -2. -1. -0.]\n",
      "arr floor: \n",
      " [-10.  -9.  -8.  -7.  -6.  -5.  -4.  -3.  -2.  -1.]\n",
      "arr rint: \n",
      " [-10.  -9.  -8.  -7.  -6.  -5.  -4.  -3.  -2.  -1.]\n",
      "arr modf: \n",
      " (array([-0.7, -0.7, -0.7, -0.7, -0.7, -0.7, -0.7, -0.7, -0.7, -0.7]), array([-9., -8., -7., -6., -5., -4., -3., -2., -1., -0.]))\n"
     ]
    }
   ],
   "source": [
    "# np.abs()\n",
    "print('arr abs: \\n', np.abs(arr))\n",
    "# np.sqrt()\n",
    "print('arr sqrt: \\n', np.sqrt(arr+10))\n",
    "# np.square()\n",
    "print('arr square: \\n', np.square(arr))\n",
    "# np.exp()\n",
    "print('arr exp: \\n', np.exp(arr+10))\n",
    "# np.log()\n",
    "print('arr log: \\n', np.log(np.exp(arr+10)))\n",
    "# np.sign()\n",
    "print('arr sign: \\n', np.sign(arr+5))\n",
    "# np.ceil\n",
    "print('arr ceil: \\n', np.ceil(arr+0.3))\n",
    "# np.floor\n",
    "print('arr floor: \\n', np.floor(arr+0.3))\n",
    "# np.rint\n",
    "print('arr rint: \\n', np.rint(arr+0.3))\n",
    "# np.modf\n",
    "print('arr modf: \\n', np.modf(arr+0.3))"
   ]
  },
  {
   "cell_type": "code",
   "execution_count": 21,
   "metadata": {},
   "outputs": [
    {
     "name": "stdout",
     "output_type": "stream",
     "text": [
      "arr with Nan: \n",
      " [ nan  -9.  nan  -7.  nan  -5.  -4.  -3.  -2.  inf]\n"
     ]
    }
   ],
   "source": [
    "arr_float = arr.astype(np.float)\n",
    "arr_float[[0, 2, 4]] = np.NaN\n",
    "arr_float[-1] = np.Inf\n",
    "print('arr with Nan: \\n', arr_float)"
   ]
  },
  {
   "cell_type": "code",
   "execution_count": 22,
   "metadata": {},
   "outputs": [
    {
     "name": "stdout",
     "output_type": "stream",
     "text": [
      "arr nan: \n",
      " [ True False  True False  True False False False False False]\n",
      "arr inf: \n",
      " [False False False False False False False False False  True]\n"
     ]
    }
   ],
   "source": [
    "# np.isnan()\n",
    "print('arr nan: \\n', np.isnan(arr_float))\n",
    "# np.isinf()\n",
    "print('arr inf: \\n', np.isinf(arr_float))"
   ]
  },
  {
   "cell_type": "markdown",
   "metadata": {},
   "source": [
    "以下函数对两个数组作用(binary ufunc)  \n",
    "\n",
    "函数 | 说明 \n",
    "--- | --- \n",
    "add | 元素相加\n",
    "subtract | 元素相减\n",
    "multply | 元素相乘\n",
    "divide floor_divide | 除法\n",
    "power | $A^B$\n",
    "maximum fmax | 最大值 fmax 忽略 NaN\n",
    "minimum fmin | 最小值 fmin 忽略 NaN\n",
    "mod | 求余数\n",
    "copysign | 将第二个数组的符号复制给第一个数组的值\n",
    "greater greater_equal less less_equal equal not_equal | > >= < <= == !=\n",
    "logical_and logical_or logical_xor | & \\| ^"
   ]
  },
  {
   "cell_type": "code",
   "execution_count": 23,
   "metadata": {},
   "outputs": [
    {
     "name": "stdout",
     "output_type": "stream",
     "text": [
      "x: \n",
      " [ 0.09836809 -1.12265088  0.33041685  0.26390636  0.39234656  2.3312102\n",
      " -0.64102884 -0.01100052 -0.81015187  0.2194367 ]\n",
      "y: \n",
      " [-0.29661387  1.09419825  0.3371075   1.09272952  0.40148001 -2.09319417\n",
      " -0.51035631  0.12446398 -0.04842607 -2.95193171]\n"
     ]
    }
   ],
   "source": [
    "# 创建两个随机数组\n",
    "x = np.random.randn(10)\n",
    "y = np.random.randn(10)\n",
    "print('x: \\n', x)\n",
    "print('y: \\n', y)"
   ]
  },
  {
   "cell_type": "code",
   "execution_count": 24,
   "metadata": {},
   "outputs": [
    {
     "name": "stdout",
     "output_type": "stream",
     "text": [
      "add: \n",
      " [-0.19824578 -0.02845262  0.66752435  1.35663588  0.79382657  0.23801603\n",
      " -1.15138516  0.11346346 -0.85857794 -2.73249502]\n",
      "subtract: \n",
      " [ 0.39498196 -2.21684913 -0.00669065 -0.82882316 -0.00913345  4.42440437\n",
      " -0.13067253 -0.13546449 -0.7617258   3.17136841]\n",
      "multiply: \n",
      " [ -2.91773390e-02  -1.22840263e+00   1.11385997e-01   2.88378273e-01\n",
      "   1.57519299e-01  -4.87967561e+00   3.27153116e-01  -1.36916807e-03\n",
      "   3.92324716e-02  -6.47762148e-01]\n",
      "divide: \n",
      " [ -0.33163684  -1.02600317   0.98015278   0.24151115   0.97725054\n",
      "  -1.11370948   1.25604176  -0.08838314  16.7296635   -0.07433664]\n",
      "power: \n",
      " [  1.98945172   1.1349525    0.68844977   0.23323901   0.68685738\n",
      "   0.17005158   1.25476169   0.57046169   1.01024746  87.98529319]\n",
      "maximum: \n",
      " [ 0.09836809  1.09419825  0.3371075   1.09272952  0.40148001  2.3312102\n",
      " -0.51035631  0.12446398 -0.04842607  0.2194367 ]\n",
      "minimum: \n",
      " [-0.29661387 -1.12265088  0.33041685  0.26390636  0.39234656 -2.09319417\n",
      " -0.64102884 -0.01100052 -0.81015187 -2.95193171]\n",
      "mod: \n",
      " [-0.19824578  1.06574563  0.33041685  0.26390636  0.39234656 -1.85517815\n",
      " -0.13067253  0.11346346 -0.03533474 -2.73249502]\n",
      "copysign: \n",
      " [-0.09836809  1.12265088  0.33041685  0.26390636  0.39234656 -2.3312102\n",
      " -0.64102884  0.01100052 -0.81015187 -0.2194367 ]\n",
      ">: \n",
      " [ True False False False False  True False False False  True]\n",
      "<: \n",
      " [False  True  True  True  True False  True  True  True False]\n",
      "&: \n",
      " [False False False False False False False False False False]\n"
     ]
    }
   ],
   "source": [
    "# np.add()\n",
    "print('add: \\n', np.add(x, y))\n",
    "# np.subtract()\n",
    "print('subtract: \\n', np.subtract(x, y))\n",
    "# np.multiply()\n",
    "print('multiply: \\n', np.multiply(x, y))\n",
    "# np.divide\n",
    "print('divide: \\n', np.divide(x, y))\n",
    "# np.power Ps: 避免无法计算，x 去绝对值\n",
    "print('power: \\n', np.power(np.abs(x), y))\n",
    "# np.maximum\n",
    "print('maximum: \\n', np.maximum(x, y))\n",
    "# np.minimum\n",
    "print('minimum: \\n', np.minimum(x, y))\n",
    "# np.mod\n",
    "print('mod: \\n', np.mod(x, y))\n",
    "# np.copysign\n",
    "print('copysign: \\n', np.copysign(x, y))\n",
    "# np.greater\n",
    "print('>: \\n', np.greater(x, y))\n",
    "# np.less\n",
    "print('<: \\n', np.less(x, y))\n",
    "# np.logical_and\n",
    "print('&: \\n', np.logical_and(np.greater(x, y), np.less(x, y)))"
   ]
  },
  {
   "cell_type": "markdown",
   "metadata": {},
   "source": [
    "**统计**  \n",
    "\n",
    "函数 | 说明\n",
    "--- | ---\n",
    "sum | 求和\n",
    "mean | 算术平均数\n",
    "std var | 标准差 方差\n",
    "min max | 最大值 最小值\n",
    "argmin argmax | 最大值 最小值 索引\n",
    "cumsum | 累计和\n",
    "cumprod | 累计积"
   ]
  },
  {
   "cell_type": "code",
   "execution_count": 25,
   "metadata": {},
   "outputs": [
    {
     "name": "stdout",
     "output_type": "stream",
     "text": [
      "data_arr: \n",
      " [ 0.05971164 -0.36858479  2.20454677 -0.31501527 -0.61352051 -1.55790321\n",
      "  1.21193682  0.72389227 -0.01436951 -2.03380081  0.89729443 -0.17276275\n",
      "  0.40233089  0.42856698  0.17459529 -0.6379456   0.88294305 -0.17196833\n",
      " -1.42163028  1.35401547]\n"
     ]
    }
   ],
   "source": [
    "data_arr = np.random.randn(20)\n",
    "print('data_arr: \\n', data_arr)"
   ]
  },
  {
   "cell_type": "code",
   "execution_count": 26,
   "metadata": {},
   "outputs": [
    {
     "name": "stdout",
     "output_type": "stream",
     "text": [
      "sum:  1.03233254968\n",
      "mean:  0.0516166274842\n",
      "std:  1.0064731223\n",
      "var:  1.01298814591\n",
      "max:  2.2045467652\n",
      "min:  -2.03380080752\n",
      "argmin:  9\n",
      "argmax:  2\n",
      "cumsum: \n",
      " [ 0.05971164 -0.30887316  1.89567361  1.58065834  0.96713783 -0.59076538\n",
      "  0.62117144  1.34506371  1.3306942  -0.7031066   0.19418783  0.02142508\n",
      "  0.42375597  0.85232294  1.02691824  0.38897264  1.27191569  1.09994736\n",
      " -0.32168292  1.03233255]\n",
      "cumprod: \n",
      " [  5.97116360e-02  -2.20088009e-02  -4.85194309e-02   1.52843617e-02\n",
      "  -9.37726937e-03   1.46088780e-02   1.77050373e-02   1.28165396e-02\n",
      "  -1.84167368e-04   3.74559741e-04   3.36090370e-04  -5.80638963e-05\n",
      "  -2.33608991e-05  -1.00117099e-05  -1.74799739e-06   1.11512724e-06\n",
      "   9.84593852e-07  -1.69318959e-07   2.40708958e-07   3.25923653e-07]\n"
     ]
    }
   ],
   "source": [
    "# sum\n",
    "print('sum: ', data_arr.sum())\n",
    "print('mean: ', data_arr.mean())\n",
    "print('std: ', data_arr.std())\n",
    "print('var: ', data_arr.var())\n",
    "print('max: ', data_arr.max())\n",
    "print('min: ', data_arr.min())\n",
    "print('argmin: ', data_arr.argmin())\n",
    "print('argmax: ', data_arr.argmax())\n",
    "print('cumsum: \\n', data_arr.cumsum())\n",
    "print('cumprod: \\n', data_arr.cumprod())"
   ]
  },
  {
   "cell_type": "code",
   "execution_count": 27,
   "metadata": {},
   "outputs": [
    {
     "name": "stdout",
     "output_type": "stream",
     "text": [
      ">0 count:  10\n",
      "sort: \n",
      " [-2.03380081 -1.55790321 -1.42163028 -0.6379456  -0.61352051 -0.36858479\n",
      " -0.31501527 -0.17276275 -0.17196833 -0.01436951  0.05971164  0.17459529\n",
      "  0.40233089  0.42856698  0.72389227  0.88294305  0.89729443  1.21193682\n",
      "  1.35401547  2.20454677]\n"
     ]
    }
   ],
   "source": [
    "# Tips: 找出大于 0 的个数\n",
    "print('>0 count: ', (data_arr > 0).sum())\n",
    "# 排序\n",
    "data_arr.sort()\n",
    "print('sort: \\n', data_arr)"
   ]
  },
  {
   "cell_type": "markdown",
   "metadata": {},
   "source": [
    "**集合**  \n",
    "\n",
    "函数 | 说明\n",
    "---|---\n",
    "unique(x) | 返回唯一有序结果\n",
    "intersect1d(x, y) | 返回公共元素\n",
    "union1d(x, y) | 并集\n",
    "in1d(x, y) | x 是否包含于 y\n",
    "setdiff1d(x, y) | 差集 在x不在y\n",
    "setxor1d(x, y) | 对称差 存在一个数组但不同时存在两个数组"
   ]
  },
  {
   "cell_type": "code",
   "execution_count": 28,
   "metadata": {},
   "outputs": [
    {
     "name": "stdout",
     "output_type": "stream",
     "text": [
      "nums 1 : \n",
      " [1 0 0 3 2 5]\n",
      "nums 2 : \n",
      " [4 9 0 3 2 6]\n"
     ]
    }
   ],
   "source": [
    "# 创建两个数组\n",
    "nums_1 = np.array([1, 0, 0, 3, 2, 5])\n",
    "nums_2 = np.array([4, 9, 0, 3, 2, 6])\n",
    "print('nums 1 : \\n', nums_1)\n",
    "print('nums 2 : \\n', nums_2)"
   ]
  },
  {
   "cell_type": "code",
   "execution_count": 29,
   "metadata": {},
   "outputs": [
    {
     "name": "stdout",
     "output_type": "stream",
     "text": [
      "unique: \n",
      " [0 1 2 3 5]\n",
      "intersect1d: \n",
      " [0 2 3]\n",
      "union1d: \n",
      " [0 1 2 3 4 5 6 9]\n",
      "in1d: \n",
      " [False  True  True  True  True False]\n",
      "setdiff1d: \n",
      " [1 5]\n",
      "setxor1d: \n",
      " [1 4 5 6 9]\n"
     ]
    }
   ],
   "source": [
    "# unique\n",
    "print('unique: \\n', np.unique(nums_1))\n",
    "# intersect1d\n",
    "print('intersect1d: \\n', np.intersect1d(nums_1, nums_2))\n",
    "# union1d\n",
    "print('union1d: \\n', np.union1d(nums_1, nums_2))\n",
    "# in1d\n",
    "print('in1d: \\n', np.in1d(nums_1, nums_2))\n",
    "# setdiff1d\n",
    "print('setdiff1d: \\n', np.setdiff1d(nums_1, nums_2))\n",
    "# setxor1d\n",
    "print('setxor1d: \\n', np.setxor1d(nums_1, nums_2))"
   ]
  },
  {
   "cell_type": "markdown",
   "metadata": {},
   "source": [
    "**随机函数**  \n",
    "\n",
    "函数 | 说明\n",
    "--- | ---\n",
    "seed | 设置随机数生成种子\n",
    "permutation | 返回序列随机排列\n",
    "shuffle | 对序列随机排列\n",
    "rand | 均匀分布样本生成\n",
    "randint | 给定上下范围随机整数\n",
    "randn | 生成正态分布 ($\\mu = 0, \\sigma = 1$)\n",
    "binomial | 生成二项分布\n",
    "normal | 生成高斯分布样本\n",
    "beta | 生成 Beta 分布样本\n",
    "chisquare | 生成卡方分布样本\n",
    "gamma | 生成 Gamma 分布样本\n",
    "uniform | 生成 [0, 1) 均匀分布"
   ]
  },
  {
   "cell_type": "code",
   "execution_count": 30,
   "metadata": {},
   "outputs": [
    {
     "name": "stdout",
     "output_type": "stream",
     "text": [
      "0.5507979025745755\n",
      "0.5507979025745755\n",
      "0.5507979025745755\n",
      "0.5507979025745755\n",
      "0.5507979025745755\n"
     ]
    }
   ],
   "source": [
    "# seed 设置 seed 后，每次随机一样\n",
    "i = 0\n",
    "while(i < 5):\n",
    "    np.random.seed(3)\n",
    "    print(np.random.random())\n",
    "    i+=1"
   ]
  },
  {
   "cell_type": "code",
   "execution_count": 46,
   "metadata": {},
   "outputs": [
    {
     "name": "stdout",
     "output_type": "stream",
     "text": [
      "permutation: \n",
      " [0 1 6 8 2 9 4 7 5 3]\n",
      "shuffle: \n",
      " [5 1 7 4 8 6 2 9 3 0]\n",
      "rand: \n",
      " [ 0.76417583  0.603321    0.35805149  0.45451153  0.67056627  0.37636471\n",
      "  0.06472975  0.70592838  0.71051248  0.28455966]\n",
      "randint: \n",
      " [-2 -3 -6 -7 -7 -2 -5 -8 -9  0]\n",
      "randn: \n",
      " [ 0.53506478 -1.10629888  2.56855154 -0.69984367 -0.74851361 -1.09191704\n",
      "  0.01313595 -0.27315237  0.46102057 -0.31553938]\n",
      "binonmial: \n",
      " [0 1 0 1 1 0 1 1 0 1]\n",
      "normal: \n",
      " [  4.30118074   7.85123151  10.70513844   4.83277858   5.28996051\n",
      "   3.43478947   5.223257     2.41342652   3.56571969   6.10955394]\n",
      "beta: \n",
      " [ 0.00173355  0.17882975  0.08370215  0.25266827  0.02606328  0.14744944\n",
      "  0.19149676  0.368885    0.29722945  0.25401569]\n",
      "chisquare: \n",
      " [ 0.13948117  4.91411402  0.10756093  3.33832593]\n",
      "gamma: \n",
      " [  0.83560505   1.3464553    5.68831766   4.40994569   5.51855504\n",
      "  11.97568781   0.94295759   4.41429685   9.2843684    1.02813234]\n",
      "uniform: \n",
      " [ 0.28734346  0.71863768  0.23602865  0.59537643  0.31699907  0.04258288\n",
      "  0.02150672  0.30158334  0.46327813  0.44023079]\n"
     ]
    }
   ],
   "source": [
    "# permutation\n",
    "some_values = np.random.permutation(10)\n",
    "print('permutation: \\n', some_values)\n",
    "# shuffle\n",
    "np.random.shuffle(some_values)\n",
    "print('shuffle: \\n', some_values)\n",
    "# rand\n",
    "print('rand: \\n', np.random.rand(10))\n",
    "# randint\n",
    "print('randint: \\n', np.random.randint(-10, 10, 10))\n",
    "# randn\n",
    "print('randn: \\n', np.random.randn(10))\n",
    "# binomial (模拟抛硬币)\n",
    "print('binonmial: \\n', np.random.binomial(1, 0.5, size=10))\n",
    "# normal mean =5 , std = 2\n",
    "print('normal: \\n', np.random.normal(5, 2, size=10))\n",
    "# beta\n",
    "print('beta: \\n', np.random.beta(1, 5, 10))\n",
    "# chisquare\n",
    "print('chisquare: \\n', np.random.chisquare(2, 4))\n",
    "# gamma\n",
    "print('gamma: \\n', np.random.gamma(2, 2, 10))\n",
    "# uniform\n",
    "print('uniform: \\n', np.random.uniform(size=10))"
   ]
  }
 ],
 "metadata": {
  "kernelspec": {
   "display_name": "Python 3",
   "language": "python",
   "name": "python3"
  },
  "language_info": {
   "codemirror_mode": {
    "name": "ipython",
    "version": 3
   },
   "file_extension": ".py",
   "mimetype": "text/x-python",
   "name": "python",
   "nbconvert_exporter": "python",
   "pygments_lexer": "ipython3",
   "version": "3.6.6"
  }
 },
 "nbformat": 4,
 "nbformat_minor": 2
}
