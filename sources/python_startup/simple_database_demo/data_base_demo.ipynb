{
 "cells": [
  {
   "cell_type": "markdown",
   "metadata": {},
   "source": [
    "# 简单数据库操作\n",
    "我们在之前的 《树莓派入坑系列》 就给大家介绍过如果安装和配置数据库。在一下的这一部分内容，将给大家演示如何使用 Python 去操作数据库。  \n",
    "\n",
    "在准备这一部分的内容的时候，我花了不少时间去考虑，想怎么样去以一种简单的方式来介绍使用 Python 以及数据库。因为，在这么多期的视频反馈中，我了解到我们的观众朋友们已经掌握的知识以及长处差别还是比较大的。针对一些初学、对这方面刚入门的朋友，可能还不清楚什么是关系型数据库，什么是 UML 什么是 E-R图；而对于一些有目的性想要开发某种软件或硬件应用的朋友，又更渴望看到具体实务相关的数据库设计内容；一些有相当基础和经验的朋友，可能又希望能看到有关进阶数据库操作、性能、部署运维方面的东西。  \n",
    "\n",
    "但是，我们的视频却又有相当的局限性，我能从后台数据上明显感觉到，只要视频的长度稍微增加，观看的数量以及留存率都会锐减，这就形成了一个矛盾，**大家都渴望得到干货，也同样并不是已经全知全能，而且还没时间去广撒网捕获新知。**这也许是这个时代的问题，我也不可能有解决方案。  \n",
    "\n",
    "所以，我的视频以及周边资料，希望能达到两个目标：  \n",
    "- 简化观众朋友们的学习平台困难 → 让你对一件事感兴趣之后想要深入的第一步变得稍微轻松一点\n",
    "- 有一定的启发 → 让你对自己想做的事情更有灵感  \n",
    "\n",
    "因此，当你看完视频后，希望你能感觉 —— “我的XX想法其实也可以XXX试试，也许不难，能行” ， 而不是， “Wow，这个 Up主 好 Cool！”。  \n",
    "\n",
    "## 本期目标  \n",
    "本期将以 《Flask Web 开发： 基于 Python的Web应用开发实战》 一书的 第五章 作为参考，使用 SQLAlchemy 库对 SQLite 数据库进行：  \n",
    "① 创建表 ② 插入数据 ③ 查询数据 ④ 修改数据 ⑤ 删除数据  \n",
    "的操作。《Flask Web》一书非常详尽的介绍如何从零开始构建一个项目，非常值得阅读。这里的内容仅仅参考了其中的一小部分数据库表的设计，如果想要了解更多，建议自行阅读。"
   ]
  },
  {
   "cell_type": "markdown",
   "metadata": {},
   "source": [
    "## SQLAlchemy 数据库安装\n",
    "```shell\n",
    "pip install sqlalchemy\n",
    "```"
   ]
  },
  {
   "cell_type": "markdown",
   "metadata": {},
   "source": [
    "### 数据库连接配置"
   ]
  },
  {
   "cell_type": "code",
   "execution_count": 1,
   "metadata": {},
   "outputs": [],
   "source": [
    "# 引入包\n",
    "from sqlalchemy import Column, String, Integer, create_engine, ForeignKey\n",
    "from sqlalchemy.orm import sessionmaker, relationship\n",
    "from sqlalchemy.ext.declarative import declarative_base"
   ]
  },
  {
   "cell_type": "code",
   "execution_count": 2,
   "metadata": {},
   "outputs": [],
   "source": [
    "# 初始化数据库配置\n",
    "Base = declarative_base()\n",
    "engine = create_engine('sqlite:///demo.db', echo=True)\n",
    "Database = sessionmaker(bind=engine)"
   ]
  },
  {
   "cell_type": "markdown",
   "metadata": {},
   "source": [
    "定义表 Role User  \n",
    "*primary_key* 主键  \n",
    "*unique*  是否唯一  \n",
    "*index*  创建索引（查询效率有关）  \n",
    "\n",
    "__repr__() → 返回格式化的字符串，方便测试用"
   ]
  },
  {
   "cell_type": "code",
   "execution_count": 3,
   "metadata": {},
   "outputs": [],
   "source": [
    "class Role(Base):\n",
    "    __tablename__ = 'roles'\n",
    "    id = Column('id', Integer, primary_key=True)\n",
    "    name = Column('name', String(64), unique=True)\n",
    "    users = relationship('User', backref='role')\n",
    "    \n",
    "    def __repr__(self):\n",
    "        return '<Role %r>' % self.name\n",
    "\n",
    "class User(Base):\n",
    "    __tablename__ = 'users'\n",
    "    id = Column('id', Integer, primary_key=True)\n",
    "    username = Column('name', String(64), unique=True, index=True)\n",
    "    role_id = Column(Integer, ForeignKey('roles.id'))\n",
    "    \n",
    "    def __repr__(self):\n",
    "        return '<User %r>' % self.username"
   ]
  },
  {
   "cell_type": "markdown",
   "metadata": {},
   "source": [
    "初始化数据库 db  \n",
    "```python\n",
    "db = Database()\n",
    "```\n",
    "创建表 （第一次执行时使用）\n",
    "```python\n",
    "Base.metadata.create_all(engine)\n",
    "```"
   ]
  },
  {
   "cell_type": "code",
   "execution_count": 4,
   "metadata": {},
   "outputs": [
    {
     "name": "stdout",
     "output_type": "stream",
     "text": [
      "2018-10-17 17:46:07,113 INFO sqlalchemy.engine.base.Engine SELECT CAST('test plain returns' AS VARCHAR(60)) AS anon_1\n",
      "2018-10-17 17:46:07,126 INFO sqlalchemy.engine.base.Engine ()\n",
      "2018-10-17 17:46:07,140 INFO sqlalchemy.engine.base.Engine SELECT CAST('test unicode returns' AS VARCHAR(60)) AS anon_1\n",
      "2018-10-17 17:46:07,147 INFO sqlalchemy.engine.base.Engine ()\n",
      "2018-10-17 17:46:07,169 INFO sqlalchemy.engine.base.Engine PRAGMA table_info(\"roles\")\n",
      "2018-10-17 17:46:07,175 INFO sqlalchemy.engine.base.Engine ()\n",
      "2018-10-17 17:46:07,193 INFO sqlalchemy.engine.base.Engine PRAGMA table_info(\"users\")\n",
      "2018-10-17 17:46:07,198 INFO sqlalchemy.engine.base.Engine ()\n",
      "2018-10-17 17:46:07,205 INFO sqlalchemy.engine.base.Engine \n",
      "CREATE TABLE roles (\n",
      "\tid INTEGER NOT NULL, \n",
      "\tname VARCHAR(64), \n",
      "\tPRIMARY KEY (id), \n",
      "\tUNIQUE (name)\n",
      ")\n",
      "\n",
      "\n",
      "2018-10-17 17:46:07,210 INFO sqlalchemy.engine.base.Engine ()\n",
      "2018-10-17 17:46:07,252 INFO sqlalchemy.engine.base.Engine COMMIT\n",
      "2018-10-17 17:46:07,257 INFO sqlalchemy.engine.base.Engine \n",
      "CREATE TABLE users (\n",
      "\tid INTEGER NOT NULL, \n",
      "\tname VARCHAR(64), \n",
      "\trole_id INTEGER, \n",
      "\tPRIMARY KEY (id), \n",
      "\tFOREIGN KEY(role_id) REFERENCES roles (id)\n",
      ")\n",
      "\n",
      "\n",
      "2018-10-17 17:46:07,261 INFO sqlalchemy.engine.base.Engine ()\n",
      "2018-10-17 17:46:07,284 INFO sqlalchemy.engine.base.Engine COMMIT\n",
      "2018-10-17 17:46:07,289 INFO sqlalchemy.engine.base.Engine CREATE UNIQUE INDEX ix_users_name ON users (name)\n",
      "2018-10-17 17:46:07,293 INFO sqlalchemy.engine.base.Engine ()\n",
      "2018-10-17 17:46:07,324 INFO sqlalchemy.engine.base.Engine COMMIT\n"
     ]
    }
   ],
   "source": [
    "db = Database()\n",
    "Base.metadata.create_all(engine)"
   ]
  },
  {
   "cell_type": "markdown",
   "metadata": {},
   "source": [
    "查询当前数据库表  \n",
    "```python\n",
    "Base.metadata.tables\n",
    "```"
   ]
  },
  {
   "cell_type": "code",
   "execution_count": 5,
   "metadata": {},
   "outputs": [
    {
     "name": "stdout",
     "output_type": "stream",
     "text": [
      "immutabledict({'roles': Table('roles', MetaData(bind=None), Column('id', Integer(), table=<roles>, primary_key=True, nullable=False), Column('name', String(length=64), table=<roles>), schema=None), 'users': Table('users', MetaData(bind=None), Column('id', Integer(), table=<users>, primary_key=True, nullable=False), Column('name', String(length=64), table=<users>), Column('role_id', Integer(), ForeignKey('roles.id'), table=<users>), schema=None)})\n"
     ]
    }
   ],
   "source": [
    "tables = Base.metadata.tables\n",
    "print(tables)"
   ]
  },
  {
   "cell_type": "markdown",
   "metadata": {},
   "source": [
    "### 插入新数据操作\n",
    "向数据库中插入新数据\n",
    "- 实例化一个数据模型\n",
    "- db.add()\n",
    "- db.commit()"
   ]
  },
  {
   "cell_type": "code",
   "execution_count": 6,
   "metadata": {},
   "outputs": [],
   "source": [
    "admin_role = Role(name='Admin')\n",
    "mem_role = Role(name='Menber')\n",
    "user_role = Role(name='User')\n",
    "user_xiaoming = User(username='xiaoming', role=admin_role)\n",
    "user_xiaohong = User(username='xiaohong', role=user_role)\n",
    "user_xiaolan = User(username='xiaolan', role=user_role)"
   ]
  },
  {
   "cell_type": "code",
   "execution_count": 7,
   "metadata": {},
   "outputs": [],
   "source": [
    "db.add_all([admin_role, mem_role, user_role, user_xiaohong, user_xiaolan, user_xiaoming])"
   ]
  },
  {
   "cell_type": "code",
   "execution_count": 8,
   "metadata": {},
   "outputs": [
    {
     "name": "stdout",
     "output_type": "stream",
     "text": [
      "2018-10-17 17:48:00,853 INFO sqlalchemy.engine.base.Engine BEGIN (implicit)\n",
      "2018-10-17 17:48:00,873 INFO sqlalchemy.engine.base.Engine INSERT INTO roles (name) VALUES (?)\n",
      "2018-10-17 17:48:00,881 INFO sqlalchemy.engine.base.Engine ('Admin',)\n",
      "2018-10-17 17:48:00,890 INFO sqlalchemy.engine.base.Engine INSERT INTO roles (name) VALUES (?)\n",
      "2018-10-17 17:48:00,894 INFO sqlalchemy.engine.base.Engine ('Menber',)\n",
      "2018-10-17 17:48:00,898 INFO sqlalchemy.engine.base.Engine INSERT INTO roles (name) VALUES (?)\n",
      "2018-10-17 17:48:00,902 INFO sqlalchemy.engine.base.Engine ('User',)\n",
      "2018-10-17 17:48:00,911 INFO sqlalchemy.engine.base.Engine INSERT INTO users (name, role_id) VALUES (?, ?)\n",
      "2018-10-17 17:48:00,916 INFO sqlalchemy.engine.base.Engine ('xiaoming', 1)\n",
      "2018-10-17 17:48:00,922 INFO sqlalchemy.engine.base.Engine INSERT INTO users (name, role_id) VALUES (?, ?)\n",
      "2018-10-17 17:48:00,926 INFO sqlalchemy.engine.base.Engine ('xiaohong', 3)\n",
      "2018-10-17 17:48:00,932 INFO sqlalchemy.engine.base.Engine INSERT INTO users (name, role_id) VALUES (?, ?)\n",
      "2018-10-17 17:48:00,937 INFO sqlalchemy.engine.base.Engine ('xiaolan', 3)\n",
      "2018-10-17 17:48:00,944 INFO sqlalchemy.engine.base.Engine COMMIT\n"
     ]
    }
   ],
   "source": [
    "db.commit()"
   ]
  },
  {
   "cell_type": "markdown",
   "metadata": {},
   "source": [
    "###### 查询数据库\n",
    "- db.query()\n",
    "- 遍历查询结果"
   ]
  },
  {
   "cell_type": "code",
   "execution_count": 9,
   "metadata": {},
   "outputs": [
    {
     "name": "stdout",
     "output_type": "stream",
     "text": [
      "2018-10-17 17:48:41,210 INFO sqlalchemy.engine.base.Engine BEGIN (implicit)\n",
      "2018-10-17 17:48:41,221 INFO sqlalchemy.engine.base.Engine SELECT users.name AS users_name, users.id AS users_id, users.role_id AS users_role_id \n",
      "FROM users\n",
      "2018-10-17 17:48:41,230 INFO sqlalchemy.engine.base.Engine ()\n",
      "2018-10-17 17:48:41,254 INFO sqlalchemy.engine.base.Engine SELECT roles.id AS roles_id, roles.name AS roles_name \n",
      "FROM roles \n",
      "WHERE roles.id = ?\n",
      "2018-10-17 17:48:41,261 INFO sqlalchemy.engine.base.Engine (1,)\n",
      "1 xiaoming <Role 'Admin'>\n",
      "2018-10-17 17:48:41,274 INFO sqlalchemy.engine.base.Engine SELECT roles.id AS roles_id, roles.name AS roles_name \n",
      "FROM roles \n",
      "WHERE roles.id = ?\n",
      "2018-10-17 17:48:41,278 INFO sqlalchemy.engine.base.Engine (3,)\n",
      "2 xiaohong <Role 'User'>\n",
      "3 xiaolan <Role 'User'>\n"
     ]
    }
   ],
   "source": [
    "# 查询 User 表\n",
    "for row in db.query(User).all():\n",
    "    print(row.id, row.username, row.role)"
   ]
  },
  {
   "cell_type": "code",
   "execution_count": 10,
   "metadata": {},
   "outputs": [
    {
     "name": "stdout",
     "output_type": "stream",
     "text": [
      "2018-10-17 17:48:52,548 INFO sqlalchemy.engine.base.Engine SELECT roles.id AS roles_id, roles.name AS roles_name \n",
      "FROM roles\n",
      "2018-10-17 17:48:52,558 INFO sqlalchemy.engine.base.Engine ()\n",
      "<Role 'Admin'>\n",
      "<Role 'Menber'>\n",
      "<Role 'User'>\n"
     ]
    }
   ],
   "source": [
    "# 查询 Role 表\n",
    "for row in db.query(Role).all():\n",
    "    print(row)"
   ]
  },
  {
   "cell_type": "code",
   "execution_count": 11,
   "metadata": {},
   "outputs": [
    {
     "name": "stdout",
     "output_type": "stream",
     "text": [
      "2018-10-17 17:49:22,257 INFO sqlalchemy.engine.base.Engine SELECT users.name AS users_name, users.id AS users_id, users.role_id AS users_role_id \n",
      "FROM users \n",
      "WHERE ? = users.role_id\n",
      "2018-10-17 17:49:22,264 INFO sqlalchemy.engine.base.Engine (3,)\n",
      "<User 'xiaohong'>\n",
      "<User 'xiaolan'>\n"
     ]
    }
   ],
   "source": [
    "# 过滤查询\n",
    "for row in db.query(User).filter_by(role=user_role).all():\n",
    "    print(row)"
   ]
  },
  {
   "cell_type": "markdown",
   "metadata": {},
   "source": [
    "### 修改行数据\n",
    "- 重新定义数据实例\n",
    "- db.add()\n",
    "- db.commit()"
   ]
  },
  {
   "cell_type": "code",
   "execution_count": 12,
   "metadata": {},
   "outputs": [
    {
     "name": "stdout",
     "output_type": "stream",
     "text": [
      "2018-10-17 17:50:30,090 INFO sqlalchemy.engine.base.Engine UPDATE roles SET name=? WHERE roles.id = ?\n",
      "2018-10-17 17:50:30,101 INFO sqlalchemy.engine.base.Engine ('VIP', 3)\n",
      "2018-10-17 17:50:30,112 INFO sqlalchemy.engine.base.Engine COMMIT\n"
     ]
    }
   ],
   "source": [
    "# 修改行\n",
    "user_role.name = 'VIP'\n",
    "db.add(user_role)\n",
    "db.commit()"
   ]
  },
  {
   "cell_type": "code",
   "execution_count": 13,
   "metadata": {},
   "outputs": [
    {
     "name": "stdout",
     "output_type": "stream",
     "text": [
      "2018-10-17 17:50:35,263 INFO sqlalchemy.engine.base.Engine BEGIN (implicit)\n",
      "2018-10-17 17:50:35,273 INFO sqlalchemy.engine.base.Engine SELECT roles.id AS roles_id, roles.name AS roles_name \n",
      "FROM roles\n",
      "2018-10-17 17:50:35,281 INFO sqlalchemy.engine.base.Engine ()\n",
      "<Role 'Admin'>\n",
      "<Role 'Menber'>\n",
      "<Role 'VIP'>\n"
     ]
    }
   ],
   "source": [
    "for row in db.query(Role).all():\n",
    "    print(row)"
   ]
  },
  {
   "cell_type": "code",
   "execution_count": 14,
   "metadata": {},
   "outputs": [
    {
     "name": "stdout",
     "output_type": "stream",
     "text": [
      "2018-10-17 17:51:51,617 INFO sqlalchemy.engine.base.Engine SELECT users.name AS users_name, users.id AS users_id, users.role_id AS users_role_id \n",
      "FROM users\n",
      "2018-10-17 17:51:51,628 INFO sqlalchemy.engine.base.Engine ()\n",
      "1 xiaoming <Role 'Admin'>\n",
      "2 xiaohong <Role 'VIP'>\n",
      "3 xiaolan <Role 'VIP'>\n"
     ]
    }
   ],
   "source": [
    "for row in db.query(User).all():\n",
    "    print(row.id, row.username, row.role)"
   ]
  },
  {
   "cell_type": "markdown",
   "metadata": {},
   "source": [
    "### 删除行数据\n",
    "- db.delete() \n",
    "- db.commit()"
   ]
  },
  {
   "cell_type": "code",
   "execution_count": 15,
   "metadata": {},
   "outputs": [
    {
     "name": "stdout",
     "output_type": "stream",
     "text": [
      "2018-10-17 17:52:49,783 INFO sqlalchemy.engine.base.Engine SELECT users.name AS users_name, users.id AS users_id, users.role_id AS users_role_id \n",
      "FROM users \n",
      "WHERE ? = users.role_id\n",
      "2018-10-17 17:52:49,795 INFO sqlalchemy.engine.base.Engine (2,)\n",
      "2018-10-17 17:52:49,811 INFO sqlalchemy.engine.base.Engine DELETE FROM roles WHERE roles.id = ?\n",
      "2018-10-17 17:52:49,819 INFO sqlalchemy.engine.base.Engine (2,)\n",
      "2018-10-17 17:52:49,832 INFO sqlalchemy.engine.base.Engine COMMIT\n"
     ]
    }
   ],
   "source": [
    "# 删除行\n",
    "db.delete(mem_role)\n",
    "db.commit()"
   ]
  },
  {
   "cell_type": "code",
   "execution_count": 16,
   "metadata": {},
   "outputs": [
    {
     "name": "stdout",
     "output_type": "stream",
     "text": [
      "2018-10-17 17:52:53,064 INFO sqlalchemy.engine.base.Engine BEGIN (implicit)\n",
      "2018-10-17 17:52:53,073 INFO sqlalchemy.engine.base.Engine SELECT roles.id AS roles_id, roles.name AS roles_name \n",
      "FROM roles\n",
      "2018-10-17 17:52:53,082 INFO sqlalchemy.engine.base.Engine ()\n",
      "<Role 'Admin'>\n",
      "<Role 'VIP'>\n"
     ]
    }
   ],
   "source": [
    "for row in db.query(Role).all():\n",
    "    print(row)"
   ]
  }
 ],
 "metadata": {
  "kernelspec": {
   "display_name": "Python 3",
   "language": "python",
   "name": "python3"
  },
  "language_info": {
   "codemirror_mode": {
    "name": "ipython",
    "version": 3
   },
   "file_extension": ".py",
   "mimetype": "text/x-python",
   "name": "python",
   "nbconvert_exporter": "python",
   "pygments_lexer": "ipython3",
   "version": "3.6.6"
  }
 },
 "nbformat": 4,
 "nbformat_minor": 2
}
